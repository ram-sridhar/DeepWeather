{
 "cells": [
  {
   "cell_type": "markdown",
   "metadata": {},
   "source": [
    "# Cyclone detection by satellite data"
   ]
  },
  {
   "cell_type": "markdown",
   "metadata": {},
   "source": [
    "Cyclones are the large scale intense circular storm that originates over warm tropical oceans and is characterized by low atmospheric pressure, high winds, and heavy rain.\n",
    "Variously referred as hurricane or typhoon, cyclone has a significant socio-economic impact.\n",
    "The accurate forecast of the cyclone track has been a significant achievement of modern meteorology. \n",
    "Aided by the development of satellites and improved computational power, cyclone predictability has improved over the years.\n",
    "Recently with the advent of machine learning few attempts have been made to understand the cyclone.\n",
    "In this notebook I have tried to detect the presence of cyclone using the reanalysis data."
   ]
  },
  {
   "cell_type": "markdown",
   "metadata": {},
   "source": [
    "### Data\n",
    "\n",
    "Atlantic basin is selected for the analysis. List of cyclonic disturbances can be found here (https://www.kaggle.com/noaa/hurricane-database) and (https://www.nhc.noaa.gov/data/).\n",
    "For the present analysis I have considered all the disturbances regardless of its strength as cyclone.\n",
    "Vorticity and geopotential height at 500 hPa level as well as mean sea level pressure and cloud cover are used as predictors. [ERA_Interim](https://apps.ecmwf.int/datasets/data/interim-full-daily/levtype=sfc/) 4X daily data at a resolution of 0.75 deg is used. \n",
    "Data from the years 1970-2015 is used.\n"
   ]
  },
  {
   "cell_type": "code",
   "execution_count": 1,
   "metadata": {},
   "outputs": [
    {
     "name": "stderr",
     "output_type": "stream",
     "text": [
      "Using TensorFlow backend.\n"
     ]
    }
   ],
   "source": [
    "import numpy as np\n",
    "import pandas as pd\n",
    "import matplotlib.pyplot as plt\n",
    "import seaborn\n",
    "import keras\n",
    "import xarray\n",
    "plt.ion()"
   ]
  },
  {
   "cell_type": "code",
   "execution_count": 2,
   "metadata": {},
   "outputs": [
    {
     "data": {
      "text/html": [
       "<div>\n",
       "<style scoped>\n",
       "    .dataframe tbody tr th:only-of-type {\n",
       "        vertical-align: middle;\n",
       "    }\n",
       "\n",
       "    .dataframe tbody tr th {\n",
       "        vertical-align: top;\n",
       "    }\n",
       "\n",
       "    .dataframe thead th {\n",
       "        text-align: right;\n",
       "    }\n",
       "</style>\n",
       "<table border=\"1\" class=\"dataframe\">\n",
       "  <thead>\n",
       "    <tr style=\"text-align: right;\">\n",
       "      <th></th>\n",
       "      <th>ID</th>\n",
       "      <th>Name</th>\n",
       "      <th>Date</th>\n",
       "      <th>Time</th>\n",
       "      <th>Event</th>\n",
       "      <th>Status</th>\n",
       "      <th>Latitude</th>\n",
       "      <th>Longitude</th>\n",
       "      <th>Maximum Wind</th>\n",
       "      <th>Minimum Pressure</th>\n",
       "      <th>...</th>\n",
       "      <th>Low Wind SW</th>\n",
       "      <th>Low Wind NW</th>\n",
       "      <th>Moderate Wind NE</th>\n",
       "      <th>Moderate Wind SE</th>\n",
       "      <th>Moderate Wind SW</th>\n",
       "      <th>Moderate Wind NW</th>\n",
       "      <th>High Wind NE</th>\n",
       "      <th>High Wind SE</th>\n",
       "      <th>High Wind SW</th>\n",
       "      <th>High Wind NW</th>\n",
       "    </tr>\n",
       "  </thead>\n",
       "  <tbody>\n",
       "    <tr>\n",
       "      <th>49100</th>\n",
       "      <td>AL122015</td>\n",
       "      <td>KATE</td>\n",
       "      <td>20151112</td>\n",
       "      <td>1200</td>\n",
       "      <td></td>\n",
       "      <td>EX</td>\n",
       "      <td>41.3N</td>\n",
       "      <td>50.4W</td>\n",
       "      <td>55</td>\n",
       "      <td>981</td>\n",
       "      <td>...</td>\n",
       "      <td>180</td>\n",
       "      <td>120</td>\n",
       "      <td>120</td>\n",
       "      <td>120</td>\n",
       "      <td>60</td>\n",
       "      <td>0</td>\n",
       "      <td>0</td>\n",
       "      <td>0</td>\n",
       "      <td>0</td>\n",
       "      <td>0</td>\n",
       "    </tr>\n",
       "    <tr>\n",
       "      <th>49101</th>\n",
       "      <td>AL122015</td>\n",
       "      <td>KATE</td>\n",
       "      <td>20151112</td>\n",
       "      <td>1800</td>\n",
       "      <td></td>\n",
       "      <td>EX</td>\n",
       "      <td>41.9N</td>\n",
       "      <td>49.9W</td>\n",
       "      <td>55</td>\n",
       "      <td>983</td>\n",
       "      <td>...</td>\n",
       "      <td>180</td>\n",
       "      <td>120</td>\n",
       "      <td>120</td>\n",
       "      <td>120</td>\n",
       "      <td>60</td>\n",
       "      <td>0</td>\n",
       "      <td>0</td>\n",
       "      <td>0</td>\n",
       "      <td>0</td>\n",
       "      <td>0</td>\n",
       "    </tr>\n",
       "    <tr>\n",
       "      <th>49102</th>\n",
       "      <td>AL122015</td>\n",
       "      <td>KATE</td>\n",
       "      <td>20151113</td>\n",
       "      <td>0</td>\n",
       "      <td></td>\n",
       "      <td>EX</td>\n",
       "      <td>41.5N</td>\n",
       "      <td>49.2W</td>\n",
       "      <td>50</td>\n",
       "      <td>985</td>\n",
       "      <td>...</td>\n",
       "      <td>200</td>\n",
       "      <td>220</td>\n",
       "      <td>120</td>\n",
       "      <td>120</td>\n",
       "      <td>60</td>\n",
       "      <td>0</td>\n",
       "      <td>0</td>\n",
       "      <td>0</td>\n",
       "      <td>0</td>\n",
       "      <td>0</td>\n",
       "    </tr>\n",
       "    <tr>\n",
       "      <th>49103</th>\n",
       "      <td>AL122015</td>\n",
       "      <td>KATE</td>\n",
       "      <td>20151113</td>\n",
       "      <td>600</td>\n",
       "      <td></td>\n",
       "      <td>EX</td>\n",
       "      <td>40.8N</td>\n",
       "      <td>47.5W</td>\n",
       "      <td>45</td>\n",
       "      <td>985</td>\n",
       "      <td>...</td>\n",
       "      <td>180</td>\n",
       "      <td>220</td>\n",
       "      <td>0</td>\n",
       "      <td>0</td>\n",
       "      <td>0</td>\n",
       "      <td>0</td>\n",
       "      <td>0</td>\n",
       "      <td>0</td>\n",
       "      <td>0</td>\n",
       "      <td>0</td>\n",
       "    </tr>\n",
       "    <tr>\n",
       "      <th>49104</th>\n",
       "      <td>AL122015</td>\n",
       "      <td>KATE</td>\n",
       "      <td>20151113</td>\n",
       "      <td>1200</td>\n",
       "      <td></td>\n",
       "      <td>EX</td>\n",
       "      <td>40.7N</td>\n",
       "      <td>45.4W</td>\n",
       "      <td>45</td>\n",
       "      <td>987</td>\n",
       "      <td>...</td>\n",
       "      <td>150</td>\n",
       "      <td>220</td>\n",
       "      <td>0</td>\n",
       "      <td>0</td>\n",
       "      <td>0</td>\n",
       "      <td>0</td>\n",
       "      <td>0</td>\n",
       "      <td>0</td>\n",
       "      <td>0</td>\n",
       "      <td>0</td>\n",
       "    </tr>\n",
       "  </tbody>\n",
       "</table>\n",
       "<p>5 rows × 22 columns</p>\n",
       "</div>"
      ],
      "text/plain": [
       "             ID                 Name      Date  Time Event Status Latitude  \\\n",
       "49100  AL122015                 KATE  20151112  1200           EX    41.3N   \n",
       "49101  AL122015                 KATE  20151112  1800           EX    41.9N   \n",
       "49102  AL122015                 KATE  20151113     0           EX    41.5N   \n",
       "49103  AL122015                 KATE  20151113   600           EX    40.8N   \n",
       "49104  AL122015                 KATE  20151113  1200           EX    40.7N   \n",
       "\n",
       "      Longitude  Maximum Wind  Minimum Pressure  ...  Low Wind SW  \\\n",
       "49100     50.4W            55               981  ...          180   \n",
       "49101     49.9W            55               983  ...          180   \n",
       "49102     49.2W            50               985  ...          200   \n",
       "49103     47.5W            45               985  ...          180   \n",
       "49104     45.4W            45               987  ...          150   \n",
       "\n",
       "       Low Wind NW  Moderate Wind NE  Moderate Wind SE  Moderate Wind SW  \\\n",
       "49100          120               120               120                60   \n",
       "49101          120               120               120                60   \n",
       "49102          220               120               120                60   \n",
       "49103          220                 0                 0                 0   \n",
       "49104          220                 0                 0                 0   \n",
       "\n",
       "       Moderate Wind NW  High Wind NE  High Wind SE  High Wind SW  \\\n",
       "49100                 0             0             0             0   \n",
       "49101                 0             0             0             0   \n",
       "49102                 0             0             0             0   \n",
       "49103                 0             0             0             0   \n",
       "49104                 0             0             0             0   \n",
       "\n",
       "       High Wind NW  \n",
       "49100             0  \n",
       "49101             0  \n",
       "49102             0  \n",
       "49103             0  \n",
       "49104             0  \n",
       "\n",
       "[5 rows x 22 columns]"
      ]
     },
     "execution_count": 2,
     "metadata": {},
     "output_type": "execute_result"
    }
   ],
   "source": [
    "data = pd.read_csv('/home/suhas/Desktop/DeepWeather/Data/cyclone/atlantic_hurricane_kaggle.csv', sep=',')\n",
    "hours = [0,600,1200,1800]\n",
    "data = data[data['Time'].isin(hours)]\n",
    "time = pd.to_datetime(data['Date'], format='%Y%m%d')+ pd.to_timedelta(data['Time']/100, unit='h')\n",
    "time = time[(time.dt.year >= 1979) & (time.dt.year <= 2015)]\n",
    "data.tail()"
   ]
  },
  {
   "cell_type": "markdown",
   "metadata": {},
   "source": [
    "6 hour time stamps are generated between 1970-2015. \n",
    "If the cyclonic activites are present cyclone_label is assigned 1 else 0."
   ]
  },
  {
   "cell_type": "code",
   "execution_count": 3,
   "metadata": {},
   "outputs": [],
   "source": [
    "time_new = pd.date_range(start='1/1/1979', end='1/1/2016', freq='6h')\n",
    "time_new = time_new[0:-1]\n",
    "cyclone_label = np.zeros(len(time_new))\n",
    "cyclone_label[time_new.isin(time)] = 1\n",
    "cyclone_label = cyclone_label.astype(int)"
   ]
  },
  {
   "cell_type": "markdown",
   "metadata": {},
   "source": [
    "Read reanalysis data."
   ]
  },
  {
   "cell_type": "code",
   "execution_count": 4,
   "metadata": {},
   "outputs": [],
   "source": [
    "def extractData(filePath,var, yearMin, yearMax):\n",
    "    data = xarray.open_dataset(filePath)\n",
    "    out  = data[var]\n",
    "    tm  = data.time.dt.year   \n",
    "    out  = out[(tm >= yearMin) & (tm <= yearMax)]\n",
    "    out  = (out - np.mean(out))/np.std(out)\n",
    "    data.close()\n",
    "    return out"
   ]
  },
  {
   "cell_type": "code",
   "execution_count": 5,
   "metadata": {},
   "outputs": [],
   "source": [
    "pr    = extractData('Data/cyclone/era_surface.nc', 'msl', 1979, 2015)\n",
    "cloud = extractData('Data/cyclone/era_surface.nc', 'tcc', 1979, 2015)\n",
    "vrt   = extractData('Data/cyclone/era_500.nc', 'vo', 1979, 2015)\n",
    "geopt = extractData('Data/cyclone/era_500.nc', 'z', 1979, 2015)"
   ]
  },
  {
   "cell_type": "markdown",
   "metadata": {},
   "source": [
    "Only about 20% of the times experience cyclonic activities. This uneven distribution of data could result in incorrect classification. So equal number of cyclonic and nornmal times are considered."
   ]
  },
  {
   "cell_type": "code",
   "execution_count": 6,
   "metadata": {},
   "outputs": [
    {
     "name": "stdout",
     "output_type": "stream",
     "text": [
      "Ratio of cyclonic activity : 0.2093014651472547\n"
     ]
    }
   ],
   "source": [
    "print (\"Ratio of cyclonic activity :\", np.sum(cyclone_label)/len(cyclone_label))"
   ]
  },
  {
   "cell_type": "code",
   "execution_count": 7,
   "metadata": {},
   "outputs": [],
   "source": [
    "np.random.seed(23)\n",
    "idx = np.arange(len(cyclone_label))\n",
    "idx1 = idx[cyclone_label == 1]\n",
    "idx2 = idx[cyclone_label == 0]\n",
    "idx2 = np.random.choice(idx2, size=len(idx1), replace=False)\n",
    "idx = np.concatenate((idx1,idx2))\n",
    "idx = np.sort(idx)"
   ]
  },
  {
   "cell_type": "markdown",
   "metadata": {},
   "source": [
    "Training, validation and test data are split in the ratio of 60%, 20% and 20% respectively. \n",
    "Succesive times will have a significant correlation. So disfferent years are considered for training, validation and test split."
   ]
  },
  {
   "cell_type": "code",
   "execution_count": 8,
   "metadata": {},
   "outputs": [
    {
     "name": "stdout",
     "output_type": "stream",
     "text": [
      "X_train shape: (13576, 54, 121, 4)\n",
      "X_val  shape: (4525, 54, 121, 4)\n",
      "X_test shape: (4527, 54, 121, 4)\n"
     ]
    }
   ],
   "source": [
    "X = np.stack((vrt,geopt,cloud,pr),axis=3)\n",
    "X = X[idx]\n",
    "Y = cyclone_label[idx]\n",
    "\n",
    "ntotal = len(Y)\n",
    "ntrain = int(0.6*ntotal)\n",
    "nval   = int(0.2*ntotal)\n",
    "ntest  = ntotal - ntrain - nval\n",
    "trainIdx = np.random.permutation(ntrain)\n",
    "valIdx   = np.random.permutation(nval) + ntrain\n",
    "testIdx  = np.random.permutation(ntest) + ntrain + nval\n",
    "\n",
    "X_train = X[trainIdx]\n",
    "Y_train = Y[trainIdx]\n",
    "X_val   = X[valIdx]\n",
    "Y_val   = Y[valIdx]\n",
    "X_test  = X[testIdx]\n",
    "Y_test  = Y[testIdx]\n",
    "\n",
    "print (\"X_train shape:\", X_train.shape)\n",
    "print (\"X_val  shape:\", X_val.shape)\n",
    "print (\"X_test shape:\", X_test.shape)"
   ]
  },
  {
   "cell_type": "code",
   "execution_count": 9,
   "metadata": {},
   "outputs": [
    {
     "name": "stdout",
     "output_type": "stream",
     "text": [
      "WARNING:tensorflow:From /home/suhas/miniconda3/envs/ml/lib/python3.6/site-packages/tensorflow/python/framework/op_def_library.py:263: colocate_with (from tensorflow.python.framework.ops) is deprecated and will be removed in a future version.\n",
      "Instructions for updating:\n",
      "Colocations handled automatically by placer.\n",
      "WARNING:tensorflow:From /home/suhas/miniconda3/envs/ml/lib/python3.6/site-packages/keras/backend/tensorflow_backend.py:3445: calling dropout (from tensorflow.python.ops.nn_ops) with keep_prob is deprecated and will be removed in a future version.\n",
      "Instructions for updating:\n",
      "Please use `rate` instead of `keep_prob`. Rate should be set to `rate = 1 - keep_prob`.\n",
      "_________________________________________________________________\n",
      "Layer (type)                 Output Shape              Param #   \n",
      "=================================================================\n",
      "conv2d_1 (Conv2D)            (None, 54, 121, 8)        296       \n",
      "_________________________________________________________________\n",
      "max_pooling2d_1 (MaxPooling2 (None, 27, 60, 8)         0         \n",
      "_________________________________________________________________\n",
      "conv2d_2 (Conv2D)            (None, 27, 60, 16)        1168      \n",
      "_________________________________________________________________\n",
      "max_pooling2d_2 (MaxPooling2 (None, 13, 30, 16)        0         \n",
      "_________________________________________________________________\n",
      "conv2d_3 (Conv2D)            (None, 13, 30, 32)        4640      \n",
      "_________________________________________________________________\n",
      "max_pooling2d_3 (MaxPooling2 (None, 6, 15, 32)         0         \n",
      "_________________________________________________________________\n",
      "conv2d_4 (Conv2D)            (None, 6, 15, 64)         18496     \n",
      "_________________________________________________________________\n",
      "max_pooling2d_4 (MaxPooling2 (None, 3, 7, 64)          0         \n",
      "_________________________________________________________________\n",
      "flatten_1 (Flatten)          (None, 1344)              0         \n",
      "_________________________________________________________________\n",
      "dense_1 (Dense)              (None, 1024)              1377280   \n",
      "_________________________________________________________________\n",
      "dropout_1 (Dropout)          (None, 1024)              0         \n",
      "_________________________________________________________________\n",
      "dense_2 (Dense)              (None, 256)               262400    \n",
      "_________________________________________________________________\n",
      "dropout_2 (Dropout)          (None, 256)               0         \n",
      "_________________________________________________________________\n",
      "dense_3 (Dense)              (None, 16)                4112      \n",
      "_________________________________________________________________\n",
      "dropout_3 (Dropout)          (None, 16)                0         \n",
      "_________________________________________________________________\n",
      "dense_4 (Dense)              (None, 1)                 17        \n",
      "=================================================================\n",
      "Total params: 1,668,409\n",
      "Trainable params: 1,668,409\n",
      "Non-trainable params: 0\n",
      "_________________________________________________________________\n",
      "WARNING:tensorflow:From /home/suhas/miniconda3/envs/ml/lib/python3.6/site-packages/tensorflow/python/ops/math_ops.py:3066: to_int32 (from tensorflow.python.ops.math_ops) is deprecated and will be removed in a future version.\n",
      "Instructions for updating:\n",
      "Use tf.cast instead.\n",
      "Train on 13576 samples, validate on 4525 samples\n",
      "Epoch 1/10\n",
      "13576/13576 [==============================] - 25s 2ms/step - loss: 0.4668 - acc: 0.7694 - val_loss: 0.4229 - val_acc: 0.8128\n",
      "Epoch 2/10\n",
      "13576/13576 [==============================] - 24s 2ms/step - loss: 0.3609 - acc: 0.8311 - val_loss: 0.3959 - val_acc: 0.8183\n",
      "Epoch 3/10\n",
      "13576/13576 [==============================] - 25s 2ms/step - loss: 0.3109 - acc: 0.8569 - val_loss: 0.5144 - val_acc: 0.8331\n",
      "Epoch 4/10\n",
      "13576/13576 [==============================] - 25s 2ms/step - loss: 0.2723 - acc: 0.8802 - val_loss: 0.5233 - val_acc: 0.8362\n",
      "Epoch 5/10\n",
      "13576/13576 [==============================] - 24s 2ms/step - loss: 0.2403 - acc: 0.8968 - val_loss: 0.8111 - val_acc: 0.8292\n",
      "Epoch 6/10\n",
      "13576/13576 [==============================] - 25s 2ms/step - loss: 0.2090 - acc: 0.9121 - val_loss: 0.5911 - val_acc: 0.8290\n",
      "Epoch 7/10\n",
      "13576/13576 [==============================] - 25s 2ms/step - loss: 0.1767 - acc: 0.9288 - val_loss: 0.7030 - val_acc: 0.8325\n",
      "Epoch 8/10\n",
      "13576/13576 [==============================] - 26s 2ms/step - loss: 0.1446 - acc: 0.9466 - val_loss: 0.9046 - val_acc: 0.8212\n",
      "Epoch 9/10\n",
      "13576/13576 [==============================] - 25s 2ms/step - loss: 0.1374 - acc: 0.9467 - val_loss: 0.8785 - val_acc: 0.8194\n",
      "Epoch 10/10\n",
      "13576/13576 [==============================] - 26s 2ms/step - loss: 0.1343 - acc: 0.9473 - val_loss: 0.8770 - val_acc: 0.8214\n"
     ]
    }
   ],
   "source": [
    "from keras.models import Sequential\n",
    "from keras import layers\n",
    "from keras.optimizers import Adam\n",
    "\n",
    "model = Sequential()\n",
    "model.add(layers.Conv2D(8, (3, 3), activation='relu', padding='same',\n",
    "                        input_shape=(X.shape[1], X.shape[2], X.shape[3])))\n",
    "model.add(layers.MaxPooling2D((2, 2)))\n",
    "model.add(layers.Conv2D(16, (3, 3), activation='relu', padding='same'))\n",
    "model.add(layers.MaxPooling2D((2, 2)))\n",
    "model.add(layers.Conv2D(32, (3, 3), activation='relu', padding='same'))\n",
    "model.add(layers.MaxPooling2D((2, 2)))\n",
    "model.add(layers.Conv2D(64, (3, 3), activation='relu', padding='same'))\n",
    "model.add(layers.MaxPooling2D((2, 2)))\n",
    "model.add(layers.Flatten())\n",
    "model.add(layers.Dense(1024, activation='relu'))\n",
    "model.add(layers.Dropout(0.5))\n",
    "model.add(layers.Dense(256, activation='relu'))\n",
    "model.add(layers.Dropout(0.5))\n",
    "model.add(layers.Dense(16, activation='relu'))\n",
    "model.add(layers.Dropout(0.5))\n",
    "model.add(layers.Dense(1, activation='sigmoid'))\n",
    "model.summary()\n",
    "model.compile(optimizer=Adam(),\n",
    "              loss='binary_crossentropy',\n",
    "              metrics=['accuracy'])\n",
    "\n",
    "history = model.fit(X_train, Y_train, epochs=10, batch_size=128, validation_data=(X_val,Y_val))"
   ]
  },
  {
   "cell_type": "code",
   "execution_count": 10,
   "metadata": {},
   "outputs": [
    {
     "data": {
      "text/plain": [
       "(1, 10)"
      ]
     },
     "execution_count": 10,
     "metadata": {},
     "output_type": "execute_result"
    },
    {
     "data": {
      "image/png": "[encoded data removed]",
      "text/plain": [
       "<Figure size 432x288 with 1 Axes>"
      ]
     },
     "metadata": {
      "needs_background": "light"
     },
     "output_type": "display_data"
    },
    {
     "data": {
      "image/png": "[encoded data removed]",
      "text/plain": [
       "<Figure size 432x288 with 1 Axes>"
      ]
     },
     "metadata": {
      "needs_background": "light"
     },
     "output_type": "display_data"
    }
   ],
   "source": [
    "import matplotlib.pyplot as plt\n",
    "acc = history.history['acc']\n",
    "val_acc = history.history['val_acc']\n",
    "loss = history.history['loss']\n",
    "val_loss = history.history['val_loss']\n",
    "epochs = np.arange(len(acc)) + 1\n",
    "\n",
    "plt.plot(epochs, acc, label='Training acc')\n",
    "plt.plot(epochs, val_acc, label='Validation acc')\n",
    "plt.title('Training and validation accuracy')\n",
    "plt.legend()\n",
    "plt.xlim(1,10)\n",
    "\n",
    "plt.figure()\n",
    "plt.plot(epochs, loss, label='Training loss')\n",
    "plt.plot(epochs, val_loss, label='Validation loss')\n",
    "plt.title('Training and validation loss')\n",
    "plt.legend()\n",
    "plt.xlim(1,10)"
   ]
  },
  {
   "cell_type": "markdown",
   "metadata": {},
   "source": [
    "Now let us train the model with all the data (training + validation) set. n_epochs is set to 4 as validation accuracy decreases and loss increases after that.\n"
   ]
  },
  {
   "cell_type": "code",
   "execution_count": 12,
   "metadata": {},
   "outputs": [
    {
     "name": "stdout",
     "output_type": "stream",
     "text": [
      "X_train shape: (18101, 54, 121, 4)\n",
      "X_test shape: (4527, 54, 121, 4)\n"
     ]
    }
   ],
   "source": [
    "X = np.stack((vrt,geopt,cloud,pr),axis=3)\n",
    "X = X[idx]\n",
    "Y = cyclone_label[idx]\n",
    "\n",
    "ntotal = len(Y)\n",
    "ntrain = int(0.6*ntotal)\n",
    "nval   = int(0.2*ntotal)\n",
    "ntest  = ntotal - ntrain - nval\n",
    "trainIdx = np.random.permutation(ntrain)\n",
    "valIdx   = np.random.permutation(nval) + ntrain\n",
    "testIdx  = np.random.permutation(ntest) + ntrain + nval\n",
    "trainIdx = np.append(trainIdx,valIdx) # use both training and validation data\n",
    "\n",
    "X_train = X[trainIdx]\n",
    "Y_train = Y[trainIdx]\n",
    "X_test  = X[testIdx]\n",
    "Y_test  = Y[testIdx]\n",
    "\n",
    "print (\"X_train shape:\", X_train.shape)\n",
    "print (\"X_test shape:\", X_test.shape)"
   ]
  },
  {
   "cell_type": "code",
   "execution_count": null,
   "metadata": {},
   "outputs": [
    {
     "name": "stdout",
     "output_type": "stream",
     "text": [
      "_________________________________________________________________\n",
      "Layer (type)                 Output Shape              Param #   \n",
      "=================================================================\n",
      "conv2d_5 (Conv2D)            (None, 54, 121, 8)        296       \n",
      "_________________________________________________________________\n",
      "max_pooling2d_5 (MaxPooling2 (None, 27, 60, 8)         0         \n",
      "_________________________________________________________________\n",
      "conv2d_6 (Conv2D)            (None, 27, 60, 16)        1168      \n",
      "_________________________________________________________________\n",
      "max_pooling2d_6 (MaxPooling2 (None, 13, 30, 16)        0         \n",
      "_________________________________________________________________\n",
      "conv2d_7 (Conv2D)            (None, 13, 30, 32)        4640      \n",
      "_________________________________________________________________\n",
      "max_pooling2d_7 (MaxPooling2 (None, 6, 15, 32)         0         \n",
      "_________________________________________________________________\n",
      "conv2d_8 (Conv2D)            (None, 6, 15, 64)         18496     \n",
      "_________________________________________________________________\n",
      "max_pooling2d_8 (MaxPooling2 (None, 3, 7, 64)          0         \n",
      "_________________________________________________________________\n",
      "flatten_2 (Flatten)          (None, 1344)              0         \n",
      "_________________________________________________________________\n",
      "dense_5 (Dense)              (None, 1024)              1377280   \n",
      "_________________________________________________________________\n",
      "dropout_4 (Dropout)          (None, 1024)              0         \n",
      "_________________________________________________________________\n",
      "dense_6 (Dense)              (None, 256)               262400    \n",
      "_________________________________________________________________\n",
      "dropout_5 (Dropout)          (None, 256)               0         \n",
      "_________________________________________________________________\n",
      "dense_7 (Dense)              (None, 16)                4112      \n",
      "_________________________________________________________________\n",
      "dropout_6 (Dropout)          (None, 16)                0         \n",
      "_________________________________________________________________\n",
      "dense_8 (Dense)              (None, 1)                 17        \n",
      "=================================================================\n",
      "Total params: 1,668,409\n",
      "Trainable params: 1,668,409\n",
      "Non-trainable params: 0\n",
      "_________________________________________________________________\n",
      "Epoch 1/4\n",
      "18101/18101 [==============================] - 30s 2ms/step - loss: 0.4784 - acc: 0.7692\n",
      "Epoch 2/4\n",
      "18101/18101 [==============================] - 29s 2ms/step - loss: 0.3590 - acc: 0.8421\n",
      "Epoch 3/4\n",
      "18101/18101 [==============================] - 29s 2ms/step - loss: 0.3170 - acc: 0.8612\n",
      "Epoch 4/4\n",
      " 3200/18101 [====>.........................] - ETA: 24s - loss: 0.3018 - acc: 0.8672"
     ]
    }
   ],
   "source": [
    "from keras.models import Sequential\n",
    "from keras import layers\n",
    "from keras.optimizers import Adam\n",
    "\n",
    "model = Sequential()\n",
    "model.add(layers.Conv2D(8, (3, 3), activation='relu', padding='same',\n",
    "                        input_shape=(X.shape[1], X.shape[2], X.shape[3])))\n",
    "model.add(layers.MaxPooling2D((2, 2)))\n",
    "model.add(layers.Conv2D(16, (3, 3), activation='relu', padding='same'))\n",
    "model.add(layers.MaxPooling2D((2, 2)))\n",
    "model.add(layers.Conv2D(32, (3, 3), activation='relu', padding='same'))\n",
    "model.add(layers.MaxPooling2D((2, 2)))\n",
    "model.add(layers.Conv2D(64, (3, 3), activation='relu', padding='same'))\n",
    "model.add(layers.MaxPooling2D((2, 2)))\n",
    "model.add(layers.Flatten())\n",
    "model.add(layers.Dense(1024, activation='relu'))\n",
    "model.add(layers.Dropout(0.5))\n",
    "model.add(layers.Dense(256, activation='relu'))\n",
    "model.add(layers.Dropout(0.5))\n",
    "model.add(layers.Dense(16, activation='relu'))\n",
    "model.add(layers.Dropout(0.5))\n",
    "model.add(layers.Dense(1, activation='sigmoid'))\n",
    "model.summary()\n",
    "model.compile(optimizer=Adam(),\n",
    "              loss='binary_crossentropy',\n",
    "              metrics=['accuracy'])\n",
    "\n",
    "history = model.fit(X_train, Y_train, epochs=4, batch_size=128)"
   ]
  },
  {
   "cell_type": "code",
   "execution_count": null,
   "metadata": {},
   "outputs": [],
   "source": [
    "loss, accuracy = model.evaluate(X_test, Y_test)\n",
    "print (\"Test Loss:\", loss)\n",
    "print (\"Test Accuracy:\", accuracy)"
   ]
  },
  {
   "cell_type": "code",
   "execution_count": null,
   "metadata": {},
   "outputs": [],
   "source": [
    "from sklearn.metrics import confusion_matrix\n",
    "Y_pred = model.predict_classes(X_test)\n",
    "cmat =  confusion_matrix(Y_test,Y_pred)\n",
    "cmat\n",
    "seaborn.heatmap(cmat, annot=True,fmt='g')"
   ]
  },
  {
   "cell_type": "markdown",
   "metadata": {},
   "source": [
    "Test accuracy is about 84-85%. Model seems to be perfoming fairly good. \n",
    "Further inclusion of additional parameters would perhaps lead to \n",
    "Recently some work have been done in identifying the eye of the cyclone as well as its intensity.\n",
    "In coming years a significant improvement in understanding and forecasting of cyclones would be possible duw to machine learning."
   ]
  }
 ],
 "metadata": {
  "kernelspec": {
   "display_name": "Python 3",
   "language": "python",
   "name": "python3"
  },
  "language_info": {
   "codemirror_mode": {
    "name": "ipython",
    "version": 3
   },
   "file_extension": ".py",
   "mimetype": "text/x-python",
   "name": "python",
   "nbconvert_exporter": "python",
   "pygments_lexer": "ipython3",
   "version": "3.6.7"
  }
 },
 "nbformat": 4,
 "nbformat_minor": 2
}
